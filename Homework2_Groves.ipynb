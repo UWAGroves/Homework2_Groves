{
  "nbformat": 4,
  "nbformat_minor": 0,
  "metadata": {
    "colab": {
      "provenance": [],
      "authorship_tag": "ABX9TyPSGpzJq+V3xdYddgDMS5QZ",
      "include_colab_link": true
    },
    "kernelspec": {
      "name": "python3",
      "display_name": "Python 3"
    },
    "language_info": {
      "name": "python"
    }
  },
  "cells": [
    {
      "cell_type": "markdown",
      "metadata": {
        "id": "view-in-github",
        "colab_type": "text"
      },
      "source": [
        "<a href=\"https://colab.research.google.com/github/UWAGroves/Homework2_Groves/blob/main/Homework2_Groves.ipynb\" target=\"_parent\"><img src=\"https://colab.research.google.com/assets/colab-badge.svg\" alt=\"Open In Colab\"/></a>"
      ]
    },
    {
      "cell_type": "code",
      "execution_count": null,
      "metadata": {
        "colab": {
          "base_uri": "https://localhost:8080/"
        },
        "id": "yAGSM6OlwKMP",
        "outputId": "f1a4c13f-3082-451e-8d31-06cacff4c1e1"
      },
      "outputs": [
        {
          "output_type": "stream",
          "name": "stdout",
          "text": [
            "[15, 45, 42, 99, 36, 34, 5, 22, 56, 17, 43, 76, 73, 85, 37, 18, 57, 68, 4, 22, 74, 98, 20, 53, 63, 76, 8, 35, 57, 53, 62, 60, 32, 35, 95, 25, 35, 17, 89, 94, 48, 10, 72, 64, 27, 51, 86, 80, 55, 97]\n"
          ]
        }
      ],
      "source": [
        "### Creates array 'a' with 50 elements each element is a number between 1 and 100 ###\n",
        "\n",
        "import random\n",
        "\n",
        "a = [random.randint(1, 100) for _ in range (50)]\n",
        "\n",
        "print(a)\n"
      ]
    },
    {
      "cell_type": "code",
      "source": [
        "### Creates bubble sort function ###\n",
        "\n",
        "def bubble_sort(a):\n",
        "\n",
        "    for n in range(len(a) - 1, 0, -1):\n",
        "\n",
        "        # swapped tracks if any swaps occur\n",
        "        swapped = False\n",
        "\n",
        "        # Swaps elements if i is greater then i + 1, then moves to next element until no swaps happen\n",
        "        for i in range(n):\n",
        "            if a[i] > a[i + 1]:\n",
        "                a[i], a[i + 1] = a[i + 1], a[i]\n",
        "                swapped = True\n",
        "\n",
        "        # If no swaps happened, the list sorted correctly\n",
        "        if not swapped:\n",
        "            break\n",
        "### Creates array 'a' with 50 elements each element is a number between 1 and 100 ###\n",
        "\n",
        "a = [random.randint(1, 100) for _ in range (50)]\n",
        "\n",
        "print(\"Not Sorted\", a)\n",
        "\n",
        "bubble_sort(a)\n",
        "print(\"Sorted\", a)"
      ],
      "metadata": {
        "colab": {
          "base_uri": "https://localhost:8080/"
        },
        "id": "dwLKRXOLx7b5",
        "outputId": "82baccb9-ca21-4f2d-c680-4310f89f1268"
      },
      "execution_count": null,
      "outputs": [
        {
          "output_type": "stream",
          "name": "stdout",
          "text": [
            "Not Sorted [43, 15, 68, 81, 82, 96, 88, 8, 55, 85, 62, 37, 35, 37, 17, 67, 30, 91, 19, 83, 16, 52, 39, 21, 70, 25, 9, 53, 47, 33, 90, 27, 92, 78, 94, 88, 5, 68, 6, 1, 3, 68, 60, 28, 50, 48, 85, 54, 10, 71]\n",
            "Sorted [1, 3, 5, 6, 8, 9, 10, 15, 16, 17, 19, 21, 25, 27, 28, 30, 33, 35, 37, 37, 39, 43, 47, 48, 50, 52, 53, 54, 55, 60, 62, 67, 68, 68, 68, 70, 71, 78, 81, 82, 83, 85, 85, 88, 88, 90, 91, 92, 94, 96]\n"
          ]
        }
      ]
    },
    {
      "cell_type": "code",
      "source": [
        "\n",
        "\n",
        "### Creates array 'a' with 50 elements each element is a number between 1 and 100 ###\n",
        "a = [random.randint(1, 100) for _ in range (50)]\n",
        "print(\"Not Sorted\", a)\n",
        "\n",
        "### Creates insertion sort function ###\n",
        "\n",
        "n = len(a)\n",
        "for i in range(1,n):\n",
        "    #creates index number to be look at\n",
        "    insert_index = i\n",
        "    current_value = a[i]\n",
        "    #inserts current index number in already sorted area\n",
        "    for j in range(i-1, -1, -1):\n",
        "        if a[j] > current_value:\n",
        "            a[j+1] = a[j]\n",
        "            insert_index = j\n",
        "        else:\n",
        "            break\n",
        "    a[insert_index] = current_value\n",
        "\n",
        "print(\"Sorted\", a)"
      ],
      "metadata": {
        "colab": {
          "base_uri": "https://localhost:8080/"
        },
        "id": "R-sNhwSY8Kat",
        "outputId": "248e94fa-e8d4-4b70-b754-480dbdd1ea60"
      },
      "execution_count": null,
      "outputs": [
        {
          "output_type": "stream",
          "name": "stdout",
          "text": [
            "Not Sorted [76, 60, 65, 78, 33, 42, 81, 48, 83, 24, 66, 47, 39, 98, 52, 11, 26, 60, 42, 71, 9, 77, 76, 17, 25, 84, 36, 86, 80, 90, 56, 63, 98, 52, 18, 80, 65, 86, 95, 48, 11, 89, 4, 32, 1, 10, 87, 60, 55, 36]\n",
            "Sorted [1, 4, 9, 10, 11, 11, 17, 18, 24, 25, 26, 32, 33, 36, 36, 39, 42, 42, 47, 48, 48, 52, 52, 55, 56, 60, 60, 60, 63, 65, 65, 66, 71, 76, 76, 77, 78, 80, 80, 81, 83, 84, 86, 86, 87, 89, 90, 95, 98, 98]\n"
          ]
        }
      ]
    }
  ]
}